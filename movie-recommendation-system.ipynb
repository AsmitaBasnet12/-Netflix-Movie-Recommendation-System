{
 "cells": [
  {
   "cell_type": "code",
   "execution_count": 1,
   "id": "f897ad8e-f3fe-4620-965a-9a1814e305a1",
   "metadata": {},
   "outputs": [],
   "source": [
    "import pandas as pd\n",
    "import matplotlib.pyplot as plt\n",
    "from sklearn.feature_extraction.text import CountVectorizer\n",
    "from sklearn.metrics.pairwise import cosine_similarity"
   ]
  },
  {
   "cell_type": "markdown",
   "id": "932887bd-08ac-4ad5-9b20-34d24bd28b70",
   "metadata": {},
   "source": [
    "<h2> Loading the data from the CSV file into a DataFrame </h2>"
   ]
  },
  {
   "cell_type": "code",
   "execution_count": 2,
   "id": "443c3248-1b72-4d3a-a4a7-b02122372f9b",
   "metadata": {},
   "outputs": [
    {
     "data": {
      "text/html": [
       "<div>\n",
       "<style scoped>\n",
       "    .dataframe tbody tr th:only-of-type {\n",
       "        vertical-align: middle;\n",
       "    }\n",
       "\n",
       "    .dataframe tbody tr th {\n",
       "        vertical-align: top;\n",
       "    }\n",
       "\n",
       "    .dataframe thead th {\n",
       "        text-align: right;\n",
       "    }\n",
       "</style>\n",
       "<table border=\"1\" class=\"dataframe\">\n",
       "  <thead>\n",
       "    <tr style=\"text-align: right;\">\n",
       "      <th></th>\n",
       "      <th>show_id</th>\n",
       "      <th>type</th>\n",
       "      <th>title</th>\n",
       "      <th>director</th>\n",
       "      <th>cast</th>\n",
       "      <th>country</th>\n",
       "      <th>date_added</th>\n",
       "      <th>release_year</th>\n",
       "      <th>rating</th>\n",
       "      <th>duration</th>\n",
       "      <th>listed_in</th>\n",
       "      <th>description</th>\n",
       "    </tr>\n",
       "  </thead>\n",
       "  <tbody>\n",
       "    <tr>\n",
       "      <th>0</th>\n",
       "      <td>s1</td>\n",
       "      <td>Movie</td>\n",
       "      <td>Dick Johnson Is Dead</td>\n",
       "      <td>Kirsten Johnson</td>\n",
       "      <td>missing_string</td>\n",
       "      <td>United States</td>\n",
       "      <td>September 25, 2021</td>\n",
       "      <td>2020</td>\n",
       "      <td>PG-13</td>\n",
       "      <td>90 min</td>\n",
       "      <td>Documentaries</td>\n",
       "      <td>As her father nears the end of his life, filmm...</td>\n",
       "    </tr>\n",
       "    <tr>\n",
       "      <th>1</th>\n",
       "      <td>s2</td>\n",
       "      <td>TV Show</td>\n",
       "      <td>Blood &amp; Water</td>\n",
       "      <td>missing_string</td>\n",
       "      <td>Ama Qamata, Khosi Ngema, Gail Mabalane, Thaban...</td>\n",
       "      <td>South Africa</td>\n",
       "      <td>September 24, 2021</td>\n",
       "      <td>2021</td>\n",
       "      <td>TV-MA</td>\n",
       "      <td>2 Seasons</td>\n",
       "      <td>International TV Shows, TV Dramas, TV Mysteries</td>\n",
       "      <td>After crossing paths at a party, a Cape Town t...</td>\n",
       "    </tr>\n",
       "    <tr>\n",
       "      <th>2</th>\n",
       "      <td>s3</td>\n",
       "      <td>TV Show</td>\n",
       "      <td>Ganglands</td>\n",
       "      <td>Julien Leclercq</td>\n",
       "      <td>Sami Bouajila, Tracy Gotoas, Samuel Jouy, Nabi...</td>\n",
       "      <td>missing_string</td>\n",
       "      <td>September 24, 2021</td>\n",
       "      <td>2021</td>\n",
       "      <td>TV-MA</td>\n",
       "      <td>1 Season</td>\n",
       "      <td>Crime TV Shows, International TV Shows, TV Act...</td>\n",
       "      <td>To protect his family from a powerful drug lor...</td>\n",
       "    </tr>\n",
       "    <tr>\n",
       "      <th>3</th>\n",
       "      <td>s4</td>\n",
       "      <td>TV Show</td>\n",
       "      <td>Jailbirds New Orleans</td>\n",
       "      <td>missing_string</td>\n",
       "      <td>missing_string</td>\n",
       "      <td>missing_string</td>\n",
       "      <td>September 24, 2021</td>\n",
       "      <td>2021</td>\n",
       "      <td>TV-MA</td>\n",
       "      <td>1 Season</td>\n",
       "      <td>Docuseries, Reality TV</td>\n",
       "      <td>Feuds, flirtations and toilet talk go down amo...</td>\n",
       "    </tr>\n",
       "    <tr>\n",
       "      <th>4</th>\n",
       "      <td>s5</td>\n",
       "      <td>TV Show</td>\n",
       "      <td>Kota Factory</td>\n",
       "      <td>missing_string</td>\n",
       "      <td>Mayur More, Jitendra Kumar, Ranjan Raj, Alam K...</td>\n",
       "      <td>India</td>\n",
       "      <td>September 24, 2021</td>\n",
       "      <td>2021</td>\n",
       "      <td>TV-MA</td>\n",
       "      <td>2 Seasons</td>\n",
       "      <td>International TV Shows, Romantic TV Shows, TV ...</td>\n",
       "      <td>In a city of coaching centers known to train I...</td>\n",
       "    </tr>\n",
       "  </tbody>\n",
       "</table>\n",
       "</div>"
      ],
      "text/plain": [
       "  show_id     type                  title         director  \\\n",
       "0      s1    Movie   Dick Johnson Is Dead  Kirsten Johnson   \n",
       "1      s2  TV Show          Blood & Water   missing_string   \n",
       "2      s3  TV Show              Ganglands  Julien Leclercq   \n",
       "3      s4  TV Show  Jailbirds New Orleans   missing_string   \n",
       "4      s5  TV Show           Kota Factory   missing_string   \n",
       "\n",
       "                                                cast         country  \\\n",
       "0                                     missing_string   United States   \n",
       "1  Ama Qamata, Khosi Ngema, Gail Mabalane, Thaban...    South Africa   \n",
       "2  Sami Bouajila, Tracy Gotoas, Samuel Jouy, Nabi...  missing_string   \n",
       "3                                     missing_string  missing_string   \n",
       "4  Mayur More, Jitendra Kumar, Ranjan Raj, Alam K...           India   \n",
       "\n",
       "           date_added  release_year rating   duration  \\\n",
       "0  September 25, 2021          2020  PG-13     90 min   \n",
       "1  September 24, 2021          2021  TV-MA  2 Seasons   \n",
       "2  September 24, 2021          2021  TV-MA   1 Season   \n",
       "3  September 24, 2021          2021  TV-MA   1 Season   \n",
       "4  September 24, 2021          2021  TV-MA  2 Seasons   \n",
       "\n",
       "                                           listed_in  \\\n",
       "0                                      Documentaries   \n",
       "1    International TV Shows, TV Dramas, TV Mysteries   \n",
       "2  Crime TV Shows, International TV Shows, TV Act...   \n",
       "3                             Docuseries, Reality TV   \n",
       "4  International TV Shows, Romantic TV Shows, TV ...   \n",
       "\n",
       "                                         description  \n",
       "0  As her father nears the end of his life, filmm...  \n",
       "1  After crossing paths at a party, a Cape Town t...  \n",
       "2  To protect his family from a powerful drug lor...  \n",
       "3  Feuds, flirtations and toilet talk go down amo...  \n",
       "4  In a city of coaching centers known to train I...  "
      ]
     },
     "execution_count": 2,
     "metadata": {},
     "output_type": "execute_result"
    }
   ],
   "source": [
    "df = pd.read_csv('cleaned_data.csv')\n",
    "df.head()"
   ]
  },
  {
   "cell_type": "markdown",
   "id": "b1dcf225-394d-416a-9631-1ffe94e1295a",
   "metadata": {},
   "source": [
    "<h2>Checking for Missing Values</h2>"
   ]
  },
  {
   "cell_type": "code",
   "execution_count": 3,
   "id": "a9f96307-ec9a-49c2-9c01-30ca9de1057a",
   "metadata": {},
   "outputs": [
    {
     "data": {
      "text/plain": [
       "show_id         0\n",
       "type            0\n",
       "title           0\n",
       "director        0\n",
       "cast            0\n",
       "country         0\n",
       "date_added      0\n",
       "release_year    0\n",
       "rating          0\n",
       "duration        0\n",
       "listed_in       0\n",
       "description     0\n",
       "dtype: int64"
      ]
     },
     "execution_count": 3,
     "metadata": {},
     "output_type": "execute_result"
    }
   ],
   "source": [
    "df.isnull().sum()"
   ]
  },
  {
   "cell_type": "markdown",
   "id": "9255ffea-6e81-4c8a-8930-d9088c5c8b6c",
   "metadata": {},
   "source": [
    "<h2>Creating and Displaying a Feature Summary</h2>"
   ]
  },
  {
   "cell_type": "code",
   "execution_count": 4,
   "id": "ab1c78fe-c483-4a0a-90db-952788f4a68e",
   "metadata": {},
   "outputs": [
    {
     "name": "stdout",
     "output_type": "stream",
     "text": [
      "                   title                                    feature_summary\n",
      "0   Dick Johnson Is Dead                               Documentaries, Movie\n",
      "1          Blood & Water  International TV Shows, TV Dramas, TV Mysterie...\n",
      "2              Ganglands  Crime TV Shows, International TV Shows, TV Act...\n",
      "3  Jailbirds New Orleans                    Docuseries, Reality TV, TV Show\n",
      "4           Kota Factory  International TV Shows, Romantic TV Shows, TV ...\n"
     ]
    }
   ],
   "source": [
    "df['feature_summary'] = df['listed_in'] + ', ' + df['type']\n",
    "print(df[['title', 'feature_summary']].head())"
   ]
  },
  {
   "cell_type": "markdown",
   "id": "a344def9-82cb-41db-b5ef-7cede0315143",
   "metadata": {},
   "source": [
    "<h2>Vectorizing Text Data with Custom Tokenizer</h2>"
   ]
  },
  {
   "cell_type": "code",
   "execution_count": 5,
   "id": "9afd8dea-c116-4b56-abfd-b8c045cd7a14",
   "metadata": {},
   "outputs": [
    {
     "name": "stderr",
     "output_type": "stream",
     "text": [
      "C:\\Users\\ACER\\anaconda3\\Lib\\site-packages\\sklearn\\feature_extraction\\text.py:525: UserWarning: The parameter 'token_pattern' will not be used since 'tokenizer' is not None'\n",
      "  warnings.warn(\n"
     ]
    }
   ],
   "source": [
    "# Initialize the CountVectorizer with a custom tokenizer to split on ', '\n",
    "feature_vectorizer = CountVectorizer(tokenizer=lambda x: x.split(', '))\n",
    "# Transform the 'feature_summary' column into a matrix of token counts\n",
    "feature_matrix = feature_vectorizer.fit_transform(df['feature_summary'])"
   ]
  },
  {
   "cell_type": "markdown",
   "id": "935c25a1-7944-4732-90de-6ec8d1fc7f52",
   "metadata": {},
   "source": [
    "<h2> Retrieving the vocabulary dictionary from the CountVectorizer</h2>"
   ]
  },
  {
   "cell_type": "code",
   "execution_count": 6,
   "id": "c3457813-2334-4246-b832-f3d11ee5124c",
   "metadata": {},
   "outputs": [
    {
     "data": {
      "text/plain": [
       "{'documentaries': 10,\n",
       " 'movie': 21,\n",
       " 'international tv shows': 17,\n",
       " 'tv dramas': 37,\n",
       " 'tv mysteries': 39,\n",
       " 'tv show': 41,\n",
       " 'crime tv shows': 8,\n",
       " 'tv action & adventure': 35,\n",
       " 'docuseries': 11,\n",
       " 'reality tv': 24,\n",
       " 'romantic tv shows': 26,\n",
       " 'tv comedies': 36,\n",
       " 'tv horror': 38,\n",
       " 'children & family movies': 4,\n",
       " 'dramas': 12,\n",
       " 'independent movies': 15,\n",
       " 'international movies': 16,\n",
       " 'british tv shows': 3,\n",
       " 'comedies': 7,\n",
       " 'spanish-language tv shows': 29,\n",
       " 'thrillers': 34,\n",
       " 'romantic movies': 25,\n",
       " 'music & musicals': 23,\n",
       " 'horror movies': 14,\n",
       " 'sci-fi & fantasy': 27,\n",
       " 'tv thrillers': 43,\n",
       " \"kids' tv\": 18,\n",
       " 'action & adventure': 0,\n",
       " 'tv sci-fi & fantasy': 40,\n",
       " 'classic movies': 6,\n",
       " 'anime features': 1,\n",
       " 'sports movies': 30,\n",
       " 'anime series': 2,\n",
       " 'korean tv shows': 19,\n",
       " 'science & nature tv': 28,\n",
       " 'teen tv shows': 33,\n",
       " 'cult movies': 9,\n",
       " 'tv shows': 42,\n",
       " 'faith & spirituality': 13,\n",
       " 'lgbtq movies': 20,\n",
       " 'stand-up comedy': 31,\n",
       " 'movies': 22,\n",
       " 'stand-up comedy & talk shows': 32,\n",
       " 'classic & cult tv': 5}"
      ]
     },
     "execution_count": 6,
     "metadata": {},
     "output_type": "execute_result"
    }
   ],
   "source": [
    "feature_vectorizer.vocabulary_"
   ]
  },
  {
   "cell_type": "markdown",
   "id": "ee43ae3a-d6df-4e65-afe3-9954f3d3d4e0",
   "metadata": {},
   "source": [
    "<h2>Retrieving the list of feature names from the CountVectorizer</h2>"
   ]
  },
  {
   "cell_type": "code",
   "execution_count": 7,
   "id": "f24e48e5-afc7-4a07-a9e3-cec4f6dda78e",
   "metadata": {},
   "outputs": [
    {
     "data": {
      "text/plain": [
       "array(['action & adventure', 'anime features', 'anime series',\n",
       "       'british tv shows', 'children & family movies',\n",
       "       'classic & cult tv', 'classic movies', 'comedies',\n",
       "       'crime tv shows', 'cult movies', 'documentaries', 'docuseries',\n",
       "       'dramas', 'faith & spirituality', 'horror movies',\n",
       "       'independent movies', 'international movies',\n",
       "       'international tv shows', \"kids' tv\", 'korean tv shows',\n",
       "       'lgbtq movies', 'movie', 'movies', 'music & musicals',\n",
       "       'reality tv', 'romantic movies', 'romantic tv shows',\n",
       "       'sci-fi & fantasy', 'science & nature tv',\n",
       "       'spanish-language tv shows', 'sports movies', 'stand-up comedy',\n",
       "       'stand-up comedy & talk shows', 'teen tv shows', 'thrillers',\n",
       "       'tv action & adventure', 'tv comedies', 'tv dramas', 'tv horror',\n",
       "       'tv mysteries', 'tv sci-fi & fantasy', 'tv show', 'tv shows',\n",
       "       'tv thrillers'], dtype=object)"
      ]
     },
     "execution_count": 7,
     "metadata": {},
     "output_type": "execute_result"
    }
   ],
   "source": [
    "feature_vectorizer.get_feature_names_out()"
   ]
  },
  {
   "cell_type": "code",
   "execution_count": 23,
   "id": "bd826f07-dc16-4f1e-b6e8-f37366432c3e",
   "metadata": {},
   "outputs": [
    {
     "data": {
      "text/plain": [
       "array([0, 0, 0, 0, 0, 0, 0, 0, 0, 0, 1, 0, 0, 0, 0, 0, 0, 0, 0, 0, 0, 1,\n",
       "       0, 0, 0, 0, 0, 0, 0, 0, 0, 0, 0, 0, 0, 0, 0, 0, 0, 0, 0, 0, 0, 0],\n",
       "      dtype=int64)"
      ]
     },
     "execution_count": 23,
     "metadata": {},
     "output_type": "execute_result"
    }
   ],
   "source": [
    "feature_matrix.toarray()[0]"
   ]
  },
  {
   "cell_type": "code",
   "execution_count": 9,
   "id": "89fb97fe-5732-4bb3-882c-6bec26716a7b",
   "metadata": {},
   "outputs": [
    {
     "data": {
      "text/plain": [
       "(8807, 8807)"
      ]
     },
     "execution_count": 9,
     "metadata": {},
     "output_type": "execute_result"
    }
   ],
   "source": [
    "cosine_similarity_matrix = cosine_similarity(feature_matrix, feature_matrix)\n",
    "cosine_similarity_matrix.shape"
   ]
  },
  {
   "cell_type": "code",
   "execution_count": 10,
   "id": "2db62bbc-4d54-408b-83d3-052953ec444b",
   "metadata": {},
   "outputs": [
    {
     "name": "stdout",
     "output_type": "stream",
     "text": [
      "title                  Dick Johnson Is Dead  Blood & Water  Ganglands  \\\n",
      "title                                                                   \n",
      "Dick Johnson Is Dead                    1.0       0.000000   0.000000   \n",
      "Blood & Water                           0.0       1.000000   0.500000   \n",
      "Ganglands                               0.0       0.500000   1.000000   \n",
      "Jailbirds New Orleans                   0.0       0.288675   0.288675   \n",
      "Kota Factory                            0.0       0.500000   0.500000   \n",
      "\n",
      "title                  Jailbirds New Orleans  Kota Factory  Midnight Mass  \\\n",
      "title                                                                       \n",
      "Dick Johnson Is Dead                0.000000      0.000000       0.000000   \n",
      "Blood & Water                       0.288675      0.500000       0.750000   \n",
      "Ganglands                           0.288675      0.500000       0.250000   \n",
      "Jailbirds New Orleans               1.000000      0.288675       0.288675   \n",
      "Kota Factory                        0.288675      1.000000       0.250000   \n",
      "\n",
      "title                  My Little Pony: A New Generation   Sankofa  \\\n",
      "title                                                               \n",
      "Dick Johnson Is Dead                                0.5  0.353553   \n",
      "Blood & Water                                       0.0  0.000000   \n",
      "Ganglands                                           0.0  0.000000   \n",
      "Jailbirds New Orleans                               0.0  0.000000   \n",
      "Kota Factory                                        0.0  0.000000   \n",
      "\n",
      "title                  The Great British Baking Show  The Starling  ...  \\\n",
      "title                                                               ...   \n",
      "Dick Johnson Is Dead                        0.000000      0.408248  ...   \n",
      "Blood & Water                               0.288675      0.000000  ...   \n",
      "Ganglands                                   0.288675      0.000000  ...   \n",
      "Jailbirds New Orleans                       0.666667      0.000000  ...   \n",
      "Kota Factory                                0.288675      0.000000  ...   \n",
      "\n",
      "title                  Zak Storm  Zed Plus     Zenda  Zindagi Gulzar Hai  \\\n",
      "title                                                                      \n",
      "Dick Johnson Is Dead    0.000000  0.353553  0.408248            0.000000   \n",
      "Blood & Water           0.353553  0.000000  0.000000            0.750000   \n",
      "Ganglands               0.353553  0.000000  0.000000            0.500000   \n",
      "Jailbirds New Orleans   0.408248  0.000000  0.000000            0.288675   \n",
      "Kota Factory            0.353553  0.000000  0.000000            0.750000   \n",
      "\n",
      "title                   Zinzana    Zodiac  Zombie Dumb  Zombieland      Zoom  \\\n",
      "title                                                                          \n",
      "Dick Johnson Is Dead   0.353553  0.353553     0.000000    0.408248  0.408248   \n",
      "Blood & Water          0.000000  0.000000     0.250000    0.000000  0.000000   \n",
      "Ganglands              0.000000  0.000000     0.250000    0.000000  0.000000   \n",
      "Jailbirds New Orleans  0.000000  0.000000     0.288675    0.000000  0.000000   \n",
      "Kota Factory           0.000000  0.000000     0.500000    0.000000  0.000000   \n",
      "\n",
      "title                    Zubaan  \n",
      "title                            \n",
      "Dick Johnson Is Dead   0.353553  \n",
      "Blood & Water          0.000000  \n",
      "Ganglands              0.000000  \n",
      "Jailbirds New Orleans  0.000000  \n",
      "Kota Factory           0.000000  \n",
      "\n",
      "[5 rows x 8807 columns]\n"
     ]
    }
   ],
   "source": [
    "cosine_similarity_df = pd.DataFrame(cosine_similarity_matrix, index=df['title'], columns=df['title'])\n",
    "print(cosine_similarity_df.head())"
   ]
  },
  {
   "cell_type": "code",
   "execution_count": 21,
   "id": "8ee1f8c0-8ca6-4c17-9251-90089b3919fe",
   "metadata": {},
   "outputs": [
    {
     "name": "stdin",
     "output_type": "stream",
     "text": [
      "Enter the title of the movie:  Kota Factory\n"
     ]
    },
    {
     "name": "stdout",
     "output_type": "stream",
     "text": [
      "Here are some movies similar to 'Kota Factory':\n",
      "47     The Smart Money Woman\n",
      "121           Hotel Del Luna\n",
      "186     Hometown Cha-Cha-Cha\n",
      "287           I Need Romance\n",
      "316             Office Girls\n",
      "Name: title, dtype: object\n"
     ]
    },
    {
     "data": {
      "image/png": "[encoded data removed]",
      "text/plain": [
       "<Figure size 1000x600 with 1 Axes>"
      ]
     },
     "metadata": {},
     "output_type": "display_data"
    }
   ],
   "source": [
    "import matplotlib.pyplot as plt\n",
    "\n",
    "def similar_movies(movie_title, cosine_similarity_df, df, top_n=5):\n",
    "    try:\n",
    "        idx = df.index[df['title'] == movie_title].tolist()[0]\n",
    "        \n",
    "        sim_scores = list(enumerate(cosine_similarity_df.iloc[idx]))\n",
    "\n",
    "        sim_scores = sorted(sim_scores, key=lambda x: x[1], reverse=True)\n",
    "\n",
    "        sim_scores = sim_scores[1:top_n + 1]  \n",
    "\n",
    "        movie_indices = [i[0] for i in sim_scores]\n",
    "        movie_titles = df['title'].iloc[movie_indices]\n",
    "        similarity_scores = [i[1] for i in sim_scores]\n",
    "\n",
    "        return movie_titles, similarity_scores\n",
    "    except IndexError:\n",
    "        print(\"Movie not found!\")\n",
    "        return [], []\n",
    "\n",
    "def plot_recommendations_scatter(movie_titles, similarity_scores):\n",
    "    plt.figure(figsize=(10, 6))\n",
    "    plt.scatter(movie_titles, similarity_scores, color='darkred')\n",
    "    plt.xlabel('Movie Titles')\n",
    "    plt.ylabel('Similarity Score')\n",
    "    plt.title('Movie Recommendations Visualization')\n",
    "    plt.xticks(rotation=90) \n",
    "    plt.grid(True) \n",
    "    plt.show()\n",
    "\n",
    "name = input('Enter the title of the movie: ')\n",
    "\n",
    "recommended_movies, similarity_scores = similar_movies(name, cosine_similarity_df, df)\n",
    "\n",
    "if len(recommended_movies) > 0:\n",
    "    print(f\"Here are some movies similar to '{name}':\")\n",
    "    print(recommended_movies)\n",
    "    \n",
    "    plot_recommendations_scatter(recommended_movies, similarity_scores)\n",
    "else:\n",
    "    print(f\"No recommendations found for '{name}'.\")\n"
   ]
  },
  {
   "cell_type": "code",
   "execution_count": null,
   "id": "13f42958-7ee5-42a1-a8a1-8ff58b91c42c",
   "metadata": {},
   "outputs": [],
   "source": []
  }
 ],
 "metadata": {
  "kernelspec": {
   "display_name": "Python 3 (ipykernel)",
   "language": "python",
   "name": "python3"
  },
  "language_info": {
   "codemirror_mode": {
    "name": "ipython",
    "version": 3
   },
   "file_extension": ".py",
   "mimetype": "text/x-python",
   "name": "python",
   "nbconvert_exporter": "python",
   "pygments_lexer": "ipython3",
   "version": "3.12.4"
  }
 },
 "nbformat": 4,
 "nbformat_minor": 5
}
